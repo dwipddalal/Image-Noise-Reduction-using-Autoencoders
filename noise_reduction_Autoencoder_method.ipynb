{
  "nbformat": 4,
  "nbformat_minor": 0,
  "metadata": {
    "colab": {
      "name": "noise_reduction_Autoencoder_method.ipynb",
      "provenance": [],
      "collapsed_sections": []
    },
    "kernelspec": {
      "name": "python3",
      "display_name": "Python 3"
    },
    "language_info": {
      "name": "python"
    },
    "accelerator": "GPU"
  },
  "cells": [
    {
      "cell_type": "markdown",
      "source": [
        "# Importing necessary libraries"
      ],
      "metadata": {
        "id": "t_UX3PCEBH78"
      }
    },
    {
      "cell_type": "code",
      "source": [
        "import numpy as np\n",
        "import matplotlib.pyplot as plt\n",
        "import tensorflow as tf\n",
        "from tensorflow.keras.datasets import mnist\n",
        "from tensorflow.keras.layers import Conv2DTranspose, Conv2D, Input"
      ],
      "metadata": {
        "id": "vYB474XpBGkL"
      },
      "execution_count": 1,
      "outputs": []
    },
    {
      "cell_type": "markdown",
      "source": [
        "# Load the dataset\n",
        "In this case we shall use the famous fashion MNIST dataset to demonstrate noise reduction using Autoencoder"
      ],
      "metadata": {
        "id": "j9o-3QuIsyBf"
      }
    },
    {
      "cell_type": "code",
      "execution_count": 2,
      "metadata": {
        "id": "WnmDmELQu87g"
      },
      "outputs": [],
      "source": [
        "(X_train, y_train), (X_test, y_test) = mnist.load_data()"
      ]
    },
    {
      "cell_type": "markdown",
      "source": [
        "### Since this dataset was originally designed for classification task so it has label values corresponding to each image but in this case we don't need those label values."
      ],
      "metadata": {
        "id": "lrQRUbAEtWt3"
      }
    },
    {
      "cell_type": "code",
      "source": [
        "y_train"
      ],
      "metadata": {
        "colab": {
          "base_uri": "https://localhost:8080/"
        },
        "id": "ReuW0kwQtSxs",
        "outputId": "bd3a940d-6061-4c0b-b540-001a33b62834"
      },
      "execution_count": 3,
      "outputs": [
        {
          "output_type": "execute_result",
          "data": {
            "text/plain": [
              "array([5, 0, 4, ..., 5, 6, 8], dtype=uint8)"
            ]
          },
          "metadata": {},
          "execution_count": 3
        }
      ]
    },
    {
      "cell_type": "code",
      "source": [
        "plt.imshow(tf.squeeze(X_test[0]))"
      ],
      "metadata": {
        "colab": {
          "base_uri": "https://localhost:8080/",
          "height": 283
        },
        "id": "EXbw5kzRDXy6",
        "outputId": "3f505e2c-95dd-472c-8f31-deeb0dcb0858"
      },
      "execution_count": 4,
      "outputs": [
        {
          "output_type": "execute_result",
          "data": {
            "text/plain": [
              "<matplotlib.image.AxesImage at 0x7f6a403d2d50>"
            ]
          },
          "metadata": {},
          "execution_count": 4
        },
        {
          "output_type": "display_data",
          "data": {
            "text/plain": [
              "<Figure size 432x288 with 1 Axes>"
            ],
            "image/png": "[encoded data removed]"
          },
          "metadata": {
            "needs_background": "light"
          }
        }
      ]
    },
    {
      "cell_type": "code",
      "source": [
        "X_train = X_train.astype('float32') / 255.\n",
        "X_test = X_test.astype('float32') / 255."
      ],
      "metadata": {
        "id": "EE1xJ30F2D72"
      },
      "execution_count": 5,
      "outputs": []
    },
    {
      "cell_type": "code",
      "source": [
        "type(X_train)"
      ],
      "metadata": {
        "colab": {
          "base_uri": "https://localhost:8080/"
        },
        "id": "9iT1-AbDENVi",
        "outputId": "375eefad-eb17-47fd-d8eb-b7e7490dd59a"
      },
      "execution_count": 6,
      "outputs": [
        {
          "output_type": "execute_result",
          "data": {
            "text/plain": [
              "numpy.ndarray"
            ]
          },
          "metadata": {},
          "execution_count": 6
        }
      ]
    },
    {
      "cell_type": "code",
      "source": [
        "print(X_train.shape)"
      ],
      "metadata": {
        "colab": {
          "base_uri": "https://localhost:8080/"
        },
        "id": "h-5Tt67KEGMg",
        "outputId": "f84cf82a-885f-4c15-cf83-e8435ef56ab8"
      },
      "execution_count": 7,
      "outputs": [
        {
          "output_type": "stream",
          "name": "stdout",
          "text": [
            "(60000, 28, 28)\n"
          ]
        }
      ]
    },
    {
      "cell_type": "code",
      "source": [
        "X_train = X_train[...,np.newaxis]\n",
        "X_test = X_test[...,np.newaxis]"
      ],
      "metadata": {
        "id": "ZKigYVYs2KbN"
      },
      "execution_count": 8,
      "outputs": []
    },
    {
      "cell_type": "code",
      "source": [
        "print(X_train.shape)\n",
        "print(X_test.shape)"
      ],
      "metadata": {
        "colab": {
          "base_uri": "https://localhost:8080/"
        },
        "id": "p1Fd8qfv2NvO",
        "outputId": "595f7f2e-b5ae-4fe2-c9a1-f702b44ed314"
      },
      "execution_count": 9,
      "outputs": [
        {
          "output_type": "stream",
          "name": "stdout",
          "text": [
            "(60000, 28, 28, 1)\n",
            "(10000, 28, 28, 1)\n"
          ]
        }
      ]
    },
    {
      "cell_type": "code",
      "source": [
        "X_train_noisy = X_train + tf.random.normal(shape=X_train.shape) * 0.4\n",
        "X_test_noisy = X_test + tf.random.normal(shape=X_test.shape) * 0.4"
      ],
      "metadata": {
        "id": "E65StJTT2oVy"
      },
      "execution_count": 10,
      "outputs": []
    },
    {
      "cell_type": "code",
      "source": [
        "X_train_noisy = tf.clip_by_value(X_train_noisy, clip_value_min=0., clip_value_max=1.) \n",
        "X_test_noisy = tf.clip_by_value(X_test_noisy, clip_value_min=0., clip_value_max=1.)"
      ],
      "metadata": {
        "id": "A0hY5paj3Lzp"
      },
      "execution_count": 11,
      "outputs": []
    },
    {
      "cell_type": "code",
      "source": [
        "plt.figure(figsize=(20, 8))\n",
        "ax = plt.subplot(2, 1, 1) \n",
        "plt.title(\"original\", size=20) \n",
        "plt.imshow(tf.squeeze(X_test[0])) # here we will have to use tf.squeeze since we need to squeeze 28*28*1 to 28*28 \n",
        "bx = plt.subplot(2, 1, 2) \n",
        "plt.title(\"noisy verison\", size=20) \n",
        "plt.imshow(tf.squeeze(X_test_noisy[0])) \n",
        "plt.show()"
      ],
      "metadata": {
        "colab": {
          "base_uri": "https://localhost:8080/",
          "height": 504
        },
        "id": "gay9SqLf3R_g",
        "outputId": "d5da6dc5-288c-4053-a78a-2035b2b6d395"
      },
      "execution_count": 12,
      "outputs": [
        {
          "output_type": "display_data",
          "data": {
            "text/plain": [
              "<Figure size 1440x576 with 2 Axes>"
            ],
            "image/png": "[encoded data removed]"
          },
          "metadata": {
            "needs_background": "light"
          }
        }
      ]
    },
    {
      "cell_type": "code",
      "source": [
        "class Autoencoder(tf.keras.Model): \n",
        "  def __init__(self):\n",
        "\n",
        "    super(Autoencoder, self).__init__() \n",
        "\n",
        "    self.encoder = tf.keras.Sequential()\n",
        "    self.encoder.add(Input(shape=(28, 28, 1)))\n",
        "    self.encoder.add(Conv2D(8, (3,3), activation='relu', padding='same', strides=2)) \n",
        "    self.encoder.add(Conv2D(4, (3,3), activation='relu', padding='same', strides=2)) \n",
        "    \n",
        "    self.decoder = tf.keras.Sequential()\n",
        "    self.decoder.add(Conv2DTranspose(4, kernel_size=3, strides=2, activation='relu', padding='same'))\n",
        "    self.decoder.add(Conv2DTranspose(8, kernel_size=3, strides=2, activation='relu', padding='same')) \n",
        "    self.decoder.add(Conv2D(1, kernel_size=(3,3), activation='sigmoid', padding='same'))\n",
        "    \n",
        "  def call(self, x): \n",
        "    encoded = self.encoder(x) \n",
        "    decoded = self.decoder(encoded) \n",
        "    return decoded"
      ],
      "metadata": {
        "id": "lXAffZ_L3Soa"
      },
      "execution_count": 34,
      "outputs": []
    },
    {
      "cell_type": "code",
      "source": [
        ""
      ],
      "metadata": {
        "id": "5qrHy-xcXVBI"
      },
      "execution_count": 34,
      "outputs": []
    },
    {
      "cell_type": "code",
      "source": [
        "model = Autoencoder()"
      ],
      "metadata": {
        "id": "1xyxqUbG3jbx"
      },
      "execution_count": 35,
      "outputs": []
    },
    {
      "cell_type": "code",
      "source": [
        "input_shape = (28,28,1)\n",
        "model.build(input_shape) "
      ],
      "metadata": {
        "colab": {
          "base_uri": "https://localhost:8080/"
        },
        "id": "T2GobpHfM0Ao",
        "outputId": "e302db0e-3ba4-4311-ce7f-a0decaa57c96"
      },
      "execution_count": 36,
      "outputs": [
        {
          "output_type": "stream",
          "name": "stdout",
          "text": [
            "WARNING:tensorflow:Model was constructed with shape (None, 28, 28, 1) for input KerasTensor(type_spec=TensorSpec(shape=(None, 28, 28, 1), dtype=tf.float32, name='input_3'), name='input_3', description=\"created by layer 'input_3'\"), but it was called on an input with incompatible shape (28, 28, 1, 1).\n"
          ]
        }
      ]
    },
    {
      "cell_type": "code",
      "source": [
        "model.summary()"
      ],
      "metadata": {
        "colab": {
          "base_uri": "https://localhost:8080/"
        },
        "id": "LucJYBjVJQUC",
        "outputId": "261426a9-6727-4f57-86a9-1fd16da0b70c"
      },
      "execution_count": 37,
      "outputs": [
        {
          "output_type": "stream",
          "name": "stdout",
          "text": [
            "Model: \"autoencoder_2\"\n",
            "_________________________________________________________________\n",
            " Layer (type)                Output Shape              Param #   \n",
            "=================================================================\n",
            " sequential_6 (Sequential)   (None, 7, 7, 4)           372       \n",
            "                                                                 \n",
            " sequential_7 (Sequential)   (28, 28, 4, 1)            517       \n",
            "                                                                 \n",
            "=================================================================\n",
            "Total params: 889\n",
            "Trainable params: 889\n",
            "Non-trainable params: 0\n",
            "_________________________________________________________________\n"
          ]
        }
      ]
    },
    {
      "cell_type": "code",
      "source": [
        "model.compile(optimizer='adam', loss='mse')"
      ],
      "metadata": {
        "id": "RSPrU3r93lNk"
      },
      "execution_count": 38,
      "outputs": []
    },
    {
      "cell_type": "code",
      "source": [
        "model.fit(X_train_noisy, X_train, epochs=6, shuffle=True, validation_data=(X_test_noisy, X_test))"
      ],
      "metadata": {
        "colab": {
          "base_uri": "https://localhost:8080/"
        },
        "id": "-IFq6cqJ3npk",
        "outputId": "6179735a-6981-4b09-da08-993cf6141c80"
      },
      "execution_count": 39,
      "outputs": [
        {
          "output_type": "stream",
          "name": "stdout",
          "text": [
            "Epoch 1/6\n",
            "1875/1875 [==============================] - 11s 5ms/step - loss: 0.0285 - val_loss: 0.0123\n",
            "Epoch 2/6\n",
            "1875/1875 [==============================] - 12s 7ms/step - loss: 0.0118 - val_loss: 0.0112\n",
            "Epoch 3/6\n",
            "1875/1875 [==============================] - 11s 6ms/step - loss: 0.0113 - val_loss: 0.0110\n",
            "Epoch 4/6\n",
            "1875/1875 [==============================] - 10s 5ms/step - loss: 0.0110 - val_loss: 0.0108\n",
            "Epoch 5/6\n",
            "1875/1875 [==============================] - 10s 5ms/step - loss: 0.0109 - val_loss: 0.0106\n",
            "Epoch 6/6\n",
            "1875/1875 [==============================] - 10s 5ms/step - loss: 0.0108 - val_loss: 0.0105\n"
          ]
        },
        {
          "output_type": "execute_result",
          "data": {
            "text/plain": [
              "<keras.callbacks.History at 0x7f6a71c784d0>"
            ]
          },
          "metadata": {},
          "execution_count": 39
        }
      ]
    },
    {
      "cell_type": "code",
      "source": [
        "encoded_imgs=model.encoder(X_test).numpy()\n",
        "decoded_imgs=model.decoder(encoded_imgs)"
      ],
      "metadata": {
        "id": "z-2eyF1R3peR"
      },
      "execution_count": 43,
      "outputs": []
    },
    {
      "cell_type": "code",
      "source": [
        "plt.figure(figsize=(20, 7))\n",
        "cx = plt.subplot(2, 1, 1) \n",
        "plt.title(\"reconstructed\") \n",
        "plt.imshow(tf.squeeze(decoded_imgs[0])) \n",
        "ax = plt.subplot(2,1,2) \n",
        "plt.title(\"original\") \n",
        "plt.imshow(tf.squeeze(X_test[0])) "
      ],
      "metadata": {
        "colab": {
          "base_uri": "https://localhost:8080/",
          "height": 461
        },
        "id": "2B7pjg8T38pK",
        "outputId": "d6ddcd6c-ea59-4933-ec2c-2bcf1397c307"
      },
      "execution_count": 44,
      "outputs": [
        {
          "output_type": "execute_result",
          "data": {
            "text/plain": [
              "<matplotlib.image.AxesImage at 0x7f69c9f47210>"
            ]
          },
          "metadata": {},
          "execution_count": 44
        },
        {
          "output_type": "display_data",
          "data": {
            "text/plain": [
              "<Figure size 1440x504 with 2 Axes>"
            ],
            "image/png": "[encoded data removed]"
          },
          "metadata": {
            "needs_background": "light"
          }
        }
      ]
    },
    {
      "cell_type": "code",
      "source": [
        "encoded_imgs=model.encoder(X_test).numpy()\n",
        "decoded_imgs=model.decoder(encoded_imgs)"
      ],
      "metadata": {
        "id": "4K399pX45gyQ"
      },
      "execution_count": 45,
      "outputs": []
    },
    {
      "cell_type": "code",
      "source": [
        "plt.figure(figsize=(20, 7))\n",
        "cx = plt.subplot(2, 1, 1) \n",
        "plt.title(\"reconstructed\") \n",
        "plt.imshow(tf.squeeze(decoded_imgs[0])) \n",
        "ax = plt.subplot(2, 1, 2) \n",
        "plt.title(\"original\") \n",
        "plt.imshow(tf.squeeze(X_test[0])) "
      ],
      "metadata": {
        "colab": {
          "base_uri": "https://localhost:8080/",
          "height": 461
        },
        "id": "NJm3mfaL5r0O",
        "outputId": "2d2673a4-fe24-4914-93d6-4c516aa64e6b"
      },
      "execution_count": 46,
      "outputs": [
        {
          "output_type": "execute_result",
          "data": {
            "text/plain": [
              "<matplotlib.image.AxesImage at 0x7f69547b86d0>"
            ]
          },
          "metadata": {},
          "execution_count": 46
        },
        {
          "output_type": "display_data",
          "data": {
            "text/plain": [
              "<Figure size 1440x504 with 2 Axes>"
            ],
            "image/png": "[encoded data removed]"
          },
          "metadata": {
            "needs_background": "light"
          }
        }
      ]
    },
    {
      "cell_type": "code",
      "source": [
        ""
      ],
      "metadata": {
        "id": "XSuEXvSoXfEE"
      },
      "execution_count": 46,
      "outputs": []
    }
  ]
}
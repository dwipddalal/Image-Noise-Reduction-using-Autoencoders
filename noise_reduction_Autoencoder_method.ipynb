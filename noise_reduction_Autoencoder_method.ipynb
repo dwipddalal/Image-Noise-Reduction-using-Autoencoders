{
  "nbformat": 4,
  "nbformat_minor": 0,
  "metadata": {
    "colab": {
      "name": "noise_reduction_Autoencoder_method.ipynb",
      "provenance": [],
      "collapsed_sections": []
    },
    "kernelspec": {
      "name": "python3",
      "display_name": "Python 3"
    },
    "language_info": {
      "name": "python"
    },
    "accelerator": "GPU"
  },
  "cells": [
    {
      "cell_type": "markdown",
      "source": [
        "# Importing necessary libraries"
      ],
      "metadata": {
        "id": "t_UX3PCEBH78"
      }
    },
    {
      "cell_type": "code",
      "source": [
        "import numpy as np\n",
        "import matplotlib.pyplot as plt\n",
        "import tensorflow as tf\n",
        "from tensorflow.keras.datasets import mnist\n",
        "from tensorflow.keras.layers import Conv2DTranspose, Conv2D, Input"
      ],
      "metadata": {
        "id": "vYB474XpBGkL"
      },
      "execution_count": 78,
      "outputs": []
    },
    {
      "cell_type": "markdown",
      "source": [
        "# Load the dataset\n",
        "In this case we shall use the famous fashion MNIST dataset to demonstrate noise reduction using Autoencoder"
      ],
      "metadata": {
        "id": "j9o-3QuIsyBf"
      }
    },
    {
      "cell_type": "code",
      "execution_count": 79,
      "metadata": {
        "id": "WnmDmELQu87g"
      },
      "outputs": [],
      "source": [
        "(X_train, y_train), (X_test, y_test) = mnist.load_data()"
      ]
    },
    {
      "cell_type": "markdown",
      "source": [
        "### Since this dataset was originally designed for classification task so it has label values corresponding to each image but in this case we don't need those label values."
      ],
      "metadata": {
        "id": "lrQRUbAEtWt3"
      }
    },
    {
      "cell_type": "code",
      "source": [
        "y_train"
      ],
      "metadata": {
        "colab": {
          "base_uri": "https://localhost:8080/"
        },
        "id": "ReuW0kwQtSxs",
        "outputId": "b8f76491-84c0-4534-cae2-e356f64bb1ee"
      },
      "execution_count": 80,
      "outputs": [
        {
          "output_type": "execute_result",
          "data": {
            "text/plain": [
              "array([5, 0, 4, ..., 5, 6, 8], dtype=uint8)"
            ]
          },
          "metadata": {},
          "execution_count": 80
        }
      ]
    },
    {
      "cell_type": "code",
      "source": [
        "plt.imshow(tf.squeeze(X_test[0]))"
      ],
      "metadata": {
        "colab": {
          "base_uri": "https://localhost:8080/",
          "height": 283
        },
        "id": "EXbw5kzRDXy6",
        "outputId": "7ec70bb0-4ab2-49fc-cb29-34b7b59c0006"
      },
      "execution_count": 81,
      "outputs": [
        {
          "output_type": "execute_result",
          "data": {
            "text/plain": [
              "<matplotlib.image.AxesImage at 0x7fb54b7f2790>"
            ]
          },
          "metadata": {},
          "execution_count": 81
        },
        {
          "output_type": "display_data",
          "data": {
            "text/plain": [
              "<Figure size 432x288 with 1 Axes>"
            ],
            "image/png": "[encoded data removed]"
          },
          "metadata": {
            "needs_background": "light"
          }
        }
      ]
    },
    {
      "cell_type": "code",
      "source": [
        "X_train = X_train.astype('float32') / 255\n",
        "X_test = X_test.astype('float32') / 255"
      ],
      "metadata": {
        "id": "EE1xJ30F2D72"
      },
      "execution_count": 82,
      "outputs": []
    },
    {
      "cell_type": "code",
      "source": [
        "type(X_train)"
      ],
      "metadata": {
        "colab": {
          "base_uri": "https://localhost:8080/"
        },
        "id": "9iT1-AbDENVi",
        "outputId": "72c3ff8b-df39-42bc-93e9-c5628ce15c3f"
      },
      "execution_count": 83,
      "outputs": [
        {
          "output_type": "execute_result",
          "data": {
            "text/plain": [
              "numpy.ndarray"
            ]
          },
          "metadata": {},
          "execution_count": 83
        }
      ]
    },
    {
      "cell_type": "code",
      "source": [
        "print(X_train.shape)"
      ],
      "metadata": {
        "colab": {
          "base_uri": "https://localhost:8080/"
        },
        "id": "h-5Tt67KEGMg",
        "outputId": "6fdea22c-a0c2-48f3-86a8-9c411a47cc43"
      },
      "execution_count": 84,
      "outputs": [
        {
          "output_type": "stream",
          "name": "stdout",
          "text": [
            "(60000, 28, 28)\n"
          ]
        }
      ]
    },
    {
      "cell_type": "code",
      "source": [
        "X_train = X_train[...,np.newaxis]\n",
        "X_test = X_test[...,np.newaxis]"
      ],
      "metadata": {
        "id": "ZKigYVYs2KbN"
      },
      "execution_count": 85,
      "outputs": []
    },
    {
      "cell_type": "code",
      "source": [
        "print(X_train.shape)\n",
        "print(X_test.shape)"
      ],
      "metadata": {
        "colab": {
          "base_uri": "https://localhost:8080/"
        },
        "id": "p1Fd8qfv2NvO",
        "outputId": "c558c7b5-297a-4685-c202-9c2e051f2219"
      },
      "execution_count": 86,
      "outputs": [
        {
          "output_type": "stream",
          "name": "stdout",
          "text": [
            "(60000, 28, 28, 1)\n",
            "(10000, 28, 28, 1)\n"
          ]
        }
      ]
    },
    {
      "cell_type": "markdown",
      "source": [
        "## Adding noise to image so as to generate input dataset for training the Autoencoder"
      ],
      "metadata": {
        "id": "8hvmgv42s7PY"
      }
    },
    {
      "cell_type": "code",
      "source": [
        "a = 0.45 # the factor of random noise that we want to add to the image\n",
        "X_train_noised = X_train + tf.random.normal(shape=X_train.shape) * a\n",
        "X_test_noised = X_test + tf.random.normal(shape=X_test.shape) * a"
      ],
      "metadata": {
        "id": "E65StJTT2oVy"
      },
      "execution_count": 87,
      "outputs": []
    },
    {
      "cell_type": "code",
      "source": [
        "X_train_noised = tf.clip_by_value(X_train_noised, clip_value_min=0., clip_value_max=1.) \n",
        "X_test_noised = tf.clip_by_value(X_test_noised, clip_value_min=0., clip_value_max=1.)"
      ],
      "metadata": {
        "id": "A0hY5paj3Lzp"
      },
      "execution_count": 88,
      "outputs": []
    },
    {
      "cell_type": "code",
      "source": [
        "plt.figure(figsize=(20, 8))\n",
        "ax = plt.subplot(2, 1, 1) \n",
        "plt.title(\"original\", size=20) \n",
        "plt.imshow(tf.squeeze(X_test[0])) # here we will have to use tf.squeeze since we need to squeeze 28*28*1 to 28*28 \n",
        "bx = plt.subplot(2, 1, 2) \n",
        "plt.title(\"noisy verison\", size=20) \n",
        "plt.imshow(tf.squeeze(X_test_noised[0])) \n",
        "plt.show()"
      ],
      "metadata": {
        "colab": {
          "base_uri": "https://localhost:8080/",
          "height": 504
        },
        "id": "gay9SqLf3R_g",
        "outputId": "249cf8f0-df7c-4cab-83a1-341c71e0a6cd"
      },
      "execution_count": 89,
      "outputs": [
        {
          "output_type": "display_data",
          "data": {
            "text/plain": [
              "<Figure size 1440x576 with 2 Axes>"
            ],
            "image/png": "[encoded data removed]"
          },
          "metadata": {
            "needs_background": "light"
          }
        }
      ]
    },
    {
      "cell_type": "markdown",
      "source": [
        "# Model Architecture\n",
        "\n",
        "\n",
        "\n"
      ],
      "metadata": {
        "id": "LNFFjrAOtNyv"
      }
    },
    {
      "cell_type": "code",
      "source": [
        "class Autoencoder(tf.keras.Model): \n",
        "  def __init__(self):\n",
        "\n",
        "    super(Autoencoder, self).__init__() \n",
        "\n",
        "    self.encoder = tf.keras.Sequential()\n",
        "    self.encoder.add(Input(shape=(28, 28, 1)))\n",
        "    self.encoder.add(Conv2D(8, (3,3), activation='relu', padding='same', strides=2)) \n",
        "    self.encoder.add(Conv2D(4, (3,3), activation='relu', padding='same', strides=2)) \n",
        "    \n",
        "    self.decoder = tf.keras.Sequential()\n",
        "    self.decoder.add(Conv2DTranspose(8, kernel_size=3, strides=2, activation='relu', padding='same'))\n",
        "    self.decoder.add(Conv2DTranspose(16, kernel_size=3, strides=2, activation='relu', padding='same')) \n",
        "    self.decoder.add(Conv2D(1, kernel_size=(3,3), activation='sigmoid', padding='same'))\n",
        "    \n",
        "  def call(self, x): \n",
        "    encoded = self.encoder(x) \n",
        "    decoded = self.decoder(encoded) \n",
        "    return decoded"
      ],
      "metadata": {
        "id": "lXAffZ_L3Soa"
      },
      "execution_count": 108,
      "outputs": []
    },
    {
      "cell_type": "code",
      "source": [
        "model = Autoencoder()"
      ],
      "metadata": {
        "id": "1xyxqUbG3jbx"
      },
      "execution_count": 109,
      "outputs": []
    },
    {
      "cell_type": "code",
      "source": [
        "input_shape = (28,28,1)\n",
        "model.build(input_shape) "
      ],
      "metadata": {
        "colab": {
          "base_uri": "https://localhost:8080/"
        },
        "id": "T2GobpHfM0Ao",
        "outputId": "bf3a8a01-d534-45ed-b800-72e990ddec87"
      },
      "execution_count": 110,
      "outputs": [
        {
          "output_type": "stream",
          "name": "stdout",
          "text": [
            "WARNING:tensorflow:Model was constructed with shape (None, 28, 28, 1) for input KerasTensor(type_spec=TensorSpec(shape=(None, 28, 28, 1), dtype=tf.float32, name='input_10'), name='input_10', description=\"created by layer 'input_10'\"), but it was called on an input with incompatible shape (28, 28, 1, 1).\n"
          ]
        }
      ]
    },
    {
      "cell_type": "code",
      "source": [
        "model.summary()"
      ],
      "metadata": {
        "colab": {
          "base_uri": "https://localhost:8080/"
        },
        "id": "LucJYBjVJQUC",
        "outputId": "a56a315d-4b51-4d7b-cccd-2ffec4842ef2"
      },
      "execution_count": 111,
      "outputs": [
        {
          "output_type": "stream",
          "name": "stdout",
          "text": [
            "Model: \"autoencoder_9\"\n",
            "_________________________________________________________________\n",
            " Layer (type)                Output Shape              Param #   \n",
            "=================================================================\n",
            " sequential_18 (Sequential)  (None, 7, 7, 4)           372       \n",
            "                                                                 \n",
            " sequential_19 (Sequential)  (28, 28, 4, 1)            1609      \n",
            "                                                                 \n",
            "=================================================================\n",
            "Total params: 1,981\n",
            "Trainable params: 1,981\n",
            "Non-trainable params: 0\n",
            "_________________________________________________________________\n"
          ]
        }
      ]
    },
    {
      "cell_type": "code",
      "source": [
        "model.compile(optimizer='adam', loss='mse')"
      ],
      "metadata": {
        "id": "RSPrU3r93lNk"
      },
      "execution_count": 112,
      "outputs": []
    },
    {
      "cell_type": "markdown",
      "source": [
        " Early stopping"
      ],
      "metadata": {
        "id": "FMGGJY6BtZSD"
      }
    },
    {
      "cell_type": "code",
      "source": [
        "callback= tf.keras.callbacks.EarlyStopping(monitor=\"val_loss\",patience=3, verbose=2, mode=\"auto\", restore_best_weights=True)\n",
        "# patience counts number of epochs with no developement and then stops the epochs"
      ],
      "metadata": {
        "id": "DI334WGaqHcw"
      },
      "execution_count": 113,
      "outputs": []
    },
    {
      "cell_type": "code",
      "source": [
        "model.fit(X_train_noised, X_train, epochs=8, shuffle=True, validation_data=(X_test_noised, X_test), callbacks = [callback])"
      ],
      "metadata": {
        "id": "-IFq6cqJ3npk"
      },
      "execution_count": null,
      "outputs": []
    },
    {
      "cell_type": "code",
      "source": [
        "encoded_image=model.encoder(X_test).numpy()\n",
        "decoded_image=model.decoder(encoded_image)"
      ],
      "metadata": {
        "id": "z-2eyF1R3peR"
      },
      "execution_count": 115,
      "outputs": []
    },
    {
      "cell_type": "code",
      "source": [
        "plt.figure(figsize=(20, 8))\n",
        "cx = plt.subplot(2, 1, 1) \n",
        "plt.title(\"reconstructed\") \n",
        "plt.imshow(tf.squeeze(decoded_image[0])) \n",
        "ax = plt.subplot(2,1,2) \n",
        "plt.title(\"original\") \n",
        "plt.imshow(tf.squeeze(X_test[0])) "
      ],
      "metadata": {
        "colab": {
          "base_uri": "https://localhost:8080/",
          "height": 517
        },
        "id": "2B7pjg8T38pK",
        "outputId": "715fa3b6-faa4-4709-cec9-7723dd97726d"
      },
      "execution_count": 116,
      "outputs": [
        {
          "output_type": "execute_result",
          "data": {
            "text/plain": [
              "<matplotlib.image.AxesImage at 0x7fb5c28573d0>"
            ]
          },
          "metadata": {},
          "execution_count": 116
        },
        {
          "output_type": "display_data",
          "data": {
            "text/plain": [
              "<Figure size 1440x576 with 2 Axes>"
            ],
            "image/png": "[encoded data removed]"
          },
          "metadata": {
            "needs_background": "light"
          }
        }
      ]
    },
    {
      "cell_type": "code",
      "source": [
        "encoded_image=model.encoder(X_test).numpy()\n",
        "decoded_image=model.decoder(encoded_image)"
      ],
      "metadata": {
        "id": "4K399pX45gyQ"
      },
      "execution_count": 117,
      "outputs": []
    },
    {
      "cell_type": "code",
      "source": [
        "plt.figure(figsize=(20, 8))\n",
        "cx = plt.subplot(2, 1, 1) \n",
        "plt.title(\"reconstructed\") \n",
        "plt.imshow(tf.squeeze(decoded_image[0])) \n",
        "ax = plt.subplot(2, 1, 2) \n",
        "plt.title(\"original\") \n",
        "plt.imshow(tf.squeeze(X_test[0])) "
      ],
      "metadata": {
        "colab": {
          "base_uri": "https://localhost:8080/",
          "height": 517
        },
        "id": "NJm3mfaL5r0O",
        "outputId": "7f0cb5d2-fdfc-4e16-e0d7-9eb434145ad1"
      },
      "execution_count": 118,
      "outputs": [
        {
          "output_type": "execute_result",
          "data": {
            "text/plain": [
              "<matplotlib.image.AxesImage at 0x7fb630090410>"
            ]
          },
          "metadata": {},
          "execution_count": 118
        },
        {
          "output_type": "display_data",
          "data": {
            "text/plain": [
              "<Figure size 1440x576 with 2 Axes>"
            ],
            "image/png": "[encoded data removed]"
          },
          "metadata": {
            "needs_background": "light"
          }
        }
      ]
    }
  ]
}